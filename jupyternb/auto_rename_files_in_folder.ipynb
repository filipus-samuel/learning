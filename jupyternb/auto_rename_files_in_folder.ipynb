{
 "cells": [
  {
   "cell_type": "code",
   "execution_count": 2,
   "metadata": {},
   "outputs": [
    {
     "name": "stdout",
     "output_type": "stream",
     "text": [
      "86913348675 - Attendee Report (1).csv\n",
      "82965118004 - Attendee Report (2).csv\n"
     ]
    }
   ],
   "source": [
    "import os\n",
    "for dir, subdirs, files in os.walk(\"webinar\"):\n",
    "    i = 1\n",
    "    if dir in ('webinar','webinar/kgmedia','webinar/grid'):\n",
    "        continue\n",
    "    for f in files:\n",
    "        folder_name = dir.split('/')[1]\n",
    "        folder_date = dir.split('/')[2].split('=')[1]\n",
    "        f_new = folder_name + '_' + folder_date + f'_{i}.csv'\n",
    "        i+=1\n",
    "        if f_new not in files:\n",
    "            print(f)\n",
    "            os.rename(os.path.join(dir, f), os.path.join(dir, f_new))"
   ]
  },
  {
   "cell_type": "code",
   "execution_count": 8,
   "metadata": {},
   "outputs": [],
   "source": [
    "import os\n",
    "folder_name = 'grid'\n",
    "root_path = f'/Users/filipussamuel/oval/drive/{folder_name}'\n",
    "\n",
    "months = {\n",
    "1:'dt=2022-01-01',\n",
    "2:'dt=2022-02-01',\n",
    "3:'dt=2022-03-01',\n",
    "4:'dt=2022-04-01',\n",
    "5:'dt=2022-05-01',\n",
    "6:'dt=2022-06-01',\n",
    "7:'dt=2022-07-01',\n",
    "8:'dt=2022-08-01',\n",
    "9:'dt=2022-09-01',\n",
    "10:'dt=2022-10-01',\n",
    "11:'dt=2022-11-01',\n",
    "12:'dt=2022-12-01',\n",
    "}\n",
    "for i in range(12):\n",
    "    folder = str(months[i+1])\n",
    "    os.mkdir(os.path.join(root_path, folder))\n"
   ]
  },
  {
   "cell_type": "code",
   "execution_count": null,
   "metadata": {},
   "outputs": [],
   "source": []
  }
 ],
 "metadata": {
  "interpreter": {
   "hash": "aee8b7b246df8f9039afb4144a1f6fd8d2ca17a180786b69acc140d282b71a49"
  },
  "kernelspec": {
   "display_name": "Python 3.8.0 64-bit",
   "language": "python",
   "name": "python3"
  },
  "language_info": {
   "codemirror_mode": {
    "name": "ipython",
    "version": 3
   },
   "file_extension": ".py",
   "mimetype": "text/x-python",
   "name": "python",
   "nbconvert_exporter": "python",
   "pygments_lexer": "ipython3",
   "version": "3.8.0 (v3.8.0:fa919fdf25, Oct 14 2019, 10:23:27) \n[Clang 6.0 (clang-600.0.57)]"
  },
  "orig_nbformat": 4
 },
 "nbformat": 4,
 "nbformat_minor": 2
}
