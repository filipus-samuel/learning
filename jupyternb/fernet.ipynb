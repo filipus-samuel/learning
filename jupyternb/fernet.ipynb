{
 "cells": [
  {
   "cell_type": "code",
   "execution_count": 3,
   "metadata": {},
   "outputs": [],
   "source": [
    "# Encrpyt\n",
    "# test_string = \"as\"\n",
    "# encrypted_string = fernet.encrypt(bytes(test_string, \"utf-8\"))\n",
    "# encrypted_string"
   ]
  },
  {
   "cell_type": "code",
   "execution_count": 4,
   "metadata": {},
   "outputs": [],
   "source": [
    "# Decrypt\n",
    "# encrypted_value = \"\"\n",
    "# decrypted_value = fernet.decrypt(encrypted_value)\n",
    "# decrypted_value.decode()"
   ]
  },
  {
   "cell_type": "code",
   "execution_count": null,
   "metadata": {},
   "outputs": [],
   "source": [
    "import pandas as pd\n",
    "from cryptography.fernet import Fernet\n",
    "import json\n",
    "from psycopg2 import connect\n",
    "\n",
    "try:\n",
    "    print(\"Connecting to Postgres...\")\n",
    "    dbname = \"airflow\"\n",
    "    user = \"airflow\"\n",
    "    host = \"\"\n",
    "    port = \"5432\"\n",
    "    password = \"\"\n",
    "    pg_conn = connect(\n",
    "        dbname=dbname,\n",
    "        user=user,\n",
    "        host=host,\n",
    "        port=port,\n",
    "        password=password\n",
    "    )\n",
    "\n",
    "    print(\"Connected to Postgres!\")\n",
    "\n",
    "except Exception as e:\n",
    "    pg_conn = None\n",
    "    raise ValueError(e)\n",
    "\n",
    "query = \"\"\"\n",
    "    select\n",
    "        *\n",
    "    from connection\n",
    "    where conn_id = ''\n",
    "\"\"\"\n",
    "cur = pg_conn.cursor()\n",
    "cur.execute(query)\n",
    "rows = cur.fetchall()\n",
    "\n",
    "\n",
    "df = pd.DataFrame(rows).rename(columns={8:\"val_hashed\"})\n",
    "\n",
    "# fernet_key dapet dari airflow.cfg\n",
    "fernet_key = \"\"\n",
    "fernet = Fernet(fernet_key)\n",
    "df[\"val\"] = [x if pd.isnull(x) else fernet.decrypt(x).decode() for x in df[\"val_hashed\"]]\n",
    "df[3].values"
   ]
  },
  {
   "cell_type": "code",
   "execution_count": null,
   "metadata": {},
   "outputs": [],
   "source": [
    "import json\n",
    "json.loads(df[\"val\"].values[0])"
   ]
  },
  {
   "cell_type": "code",
   "execution_count": null,
   "metadata": {},
   "outputs": [],
   "source": [
    "import pandas as pd\n",
    "from cryptography.fernet import Fernet\n",
    "import json\n",
    "from psycopg2 import connect\n",
    "\n",
    "try:\n",
    "    print(\"Connecting to Postgres...\")\n",
    "    dbname = \"airflow\"\n",
    "    user = \"airflow\"\n",
    "    host = \"\"\n",
    "    port = \"5432\"\n",
    "    password = \"\"\n",
    "    pg_conn = connect(\n",
    "        dbname=dbname,\n",
    "        user=user,\n",
    "        host=host,\n",
    "        port=port,\n",
    "        password=password\n",
    "    )\n",
    "\n",
    "    print(\"Connected to Postgres!\")\n",
    "\n",
    "except Exception as e:\n",
    "    pg_conn = None\n",
    "    raise ValueError(e)\n",
    "\n",
    "query = \"\"\"\n",
    "select\n",
    "    password\n",
    "from connection\n",
    "where conn_id = ''\n",
    "\"\"\"\n",
    "cur = pg_conn.cursor()\n",
    "cur.execute(query)\n",
    "rows = cur.fetchall()\n",
    "\n",
    "\n",
    "df = pd.DataFrame(rows).rename(columns={0:\"val_hashed\"})\n",
    "\n",
    "# fernet_key dapet dari airflow.cfg\n",
    "fernet_key = \"\"\n",
    "fernet = Fernet(fernet_key)\n",
    "df[\"val\"] = [x if pd.isnull(x) else fernet.decrypt(x).decode() for x in df[\"val_hashed\"]]\n",
    "print(df[\"val\"].values[0])\n",
    "df"
   ]
  }
 ],
 "metadata": {
  "kernelspec": {
   "display_name": "Python 3",
   "language": "python",
   "name": "python3"
  },
  "language_info": {
   "codemirror_mode": {
    "name": "ipython",
    "version": 3
   },
   "file_extension": ".py",
   "mimetype": "text/x-python",
   "name": "python",
   "nbconvert_exporter": "python",
   "pygments_lexer": "ipython3",
   "version": "3.9.7"
  },
  "orig_nbformat": 4,
  "vscode": {
   "interpreter": {
    "hash": "7e1998ff7f8aa20ada591c520b972326324e5ea05489af9e422744c7c09f6dad"
   }
  }
 },
 "nbformat": 4,
 "nbformat_minor": 2
}
