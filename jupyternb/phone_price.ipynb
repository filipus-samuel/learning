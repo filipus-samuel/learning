{
 "cells": [
  {
   "cell_type": "code",
   "execution_count": null,
   "metadata": {},
   "outputs": [],
   "source": [
    "import json\n",
    "import pandas as pd\n",
    "import os\n",
    "\n",
    "from datetime import datetime\n",
    "from googleapiclient.discovery import build\n",
    "from google.oauth2 import service_account\n",
    "from playwright.sync_api import sync_playwright\n",
    "from playwright_stealth import stealth_sync"
   ]
  },
  {
   "cell_type": "code",
   "execution_count": null,
   "metadata": {},
   "outputs": [],
   "source": [
    "url = \"https://www.pricebook.co.id/\"\n",
    "\n",
    "pw = sync_playwright().start()\n",
    "browser = pw.chromium.launch(headless=False)\n",
    "# Set the user agent for the page\n",
    "user_agent = \"Mozilla/5.0 (Macintosh; Intel Mac OS X 10_15_7) AppleWebKit/537.36 (KHTML, like Gecko) Chrome/121.0.0.0 Safari/537.36\"\n",
    "context = browser.new_context(user_agent=user_agent)\n",
    "\n",
    "page = context.new_page()\n",
    "stealth_sync(page)\n",
    "\n",
    "page.goto(\"https://www.pricebook.co.id/smartphone\")"
   ]
  },
  {
   "cell_type": "code",
   "execution_count": null,
   "metadata": {},
   "outputs": [],
   "source": [
    "import requests\n",
    "from bs4 import BeautifulSoup\n",
    "\n",
    "# Fetch the webpage\n",
    "with open('a.txt', 'r') as f:\n",
    "    html_content = f.read()\n",
    "\n",
    "# Parse the HTML content\n",
    "soup = BeautifulSoup(html_content, 'html.parser')\n",
    "\n",
    "# Find the div with class containing \"row\" and class \"content\" within the container_div\n",
    "next_data_script = soup.find('script', id='__NEXT_DATA__')\n",
    "\n",
    "# Print the script content if found\n",
    "if next_data_script:\n",
    "    print(next_data_script.text)\n",
    "else:\n",
    "    print(\"Script with id '__NEXT_DATA__' not found.\")"
   ]
  },
  {
   "cell_type": "code",
   "execution_count": null,
   "metadata": {},
   "outputs": [],
   "source": [
    "import json\n",
    "data = json.loads(next_data_script.text)"
   ]
  },
  {
   "cell_type": "code",
   "execution_count": null,
   "metadata": {},
   "outputs": [],
   "source": [
    "data[\"props\"][\"pageProps\"][]"
   ]
  },
  {
   "cell_type": "code",
   "execution_count": null,
   "metadata": {},
   "outputs": [],
   "source": []
  }
 ],
 "metadata": {
  "kernelspec": {
   "display_name": "Python 3",
   "language": "python",
   "name": "python3"
  },
  "language_info": {
   "codemirror_mode": {
    "name": "ipython",
    "version": 3
   },
   "file_extension": ".py",
   "mimetype": "text/x-python",
   "name": "python",
   "nbconvert_exporter": "python",
   "pygments_lexer": "ipython3",
   "version": "3.9.7"
  }
 },
 "nbformat": 4,
 "nbformat_minor": 2
}
