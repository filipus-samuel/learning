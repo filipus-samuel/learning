{
 "cells": [
  {
   "cell_type": "code",
   "execution_count": null,
   "metadata": {},
   "outputs": [],
   "source": [
    "from playwright.sync_api import sync_playwright\n",
    "from playwright_stealth import stealth_sync\n",
    "import time\n",
    "\n",
    "\n",
    "pw = sync_playwright().start()\n",
    "browser = pw.chromium.launch(headless=True)\n",
    "# Set the user agent for the page\n",
    "user_agent = \"Mozilla/5.0 (Macintosh; Intel Mac OS X 10_15_7) AppleWebKit/537.36 (KHTML, like Gecko) Chrome/121.0.0.0 Safari/537.36\"\n",
    "context = browser.new_context(user_agent=user_agent)\n",
    "\n",
    "page = context.new_page()\n",
    "stealth_sync(page)\n",
    "\n",
    "\n",
    "page.goto(\"\")\n",
    "time.sleep(120)\n",
    "for i in range(0, 5):\n",
    "    page.keyboard.press(\"PageDown\")\n",
    "    time.sleep(2)\n",
    "\n"
   ]
  }
 ],
 "metadata": {
  "kernelspec": {
   "display_name": "Python 3",
   "language": "python",
   "name": "python3"
  },
  "language_info": {
   "codemirror_mode": {
    "name": "ipython",
    "version": 3
   },
   "file_extension": ".py",
   "mimetype": "text/x-python",
   "name": "python",
   "nbconvert_exporter": "python",
   "pygments_lexer": "ipython3",
   "version": "3.9.7"
  }
 },
 "nbformat": 4,
 "nbformat_minor": 2
}
