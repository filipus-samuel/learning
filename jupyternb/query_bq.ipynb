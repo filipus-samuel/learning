{
 "cells": [
  {
   "cell_type": "code",
   "execution_count": null,
   "metadata": {},
   "outputs": [],
   "source": [
    "# import pandas as pd\n",
    "#  Cumman bs python 3.10.4\n",
    "from google.cloud import bigquery\n",
    "CREDS = 'file.json'\n",
    "client = bigquery.Client.from_service_account_json(json_credentials_path=CREDS)\n",
    "job = client.query(\"\"\"\n",
    "select 1\n",
    "\"\"\")\n",
    "rows =job.result()\n",
    "# for row in rows:\n",
    "#     print(row)\n",
    "result_df = job.to_dataframe()\n",
    "result_df"
   ]
  }
 ],
 "metadata": {
  "kernelspec": {
   "display_name": "Python 3",
   "language": "python",
   "name": "python3"
  },
  "language_info": {
   "codemirror_mode": {
    "name": "ipython",
    "version": 3
   },
   "file_extension": ".py",
   "mimetype": "text/x-python",
   "name": "python",
   "nbconvert_exporter": "python",
   "pygments_lexer": "ipython3",
   "version": "3.10.4"
  },
  "orig_nbformat": 4,
  "vscode": {
   "interpreter": {
    "hash": "7e1998ff7f8aa20ada591c520b972326324e5ea05489af9e422744c7c09f6dad"
   }
  }
 },
 "nbformat": 4,
 "nbformat_minor": 2
}
