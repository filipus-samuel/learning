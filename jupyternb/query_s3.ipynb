{
 "cells": [
  {
   "cell_type": "code",
   "execution_count": null,
   "metadata": {},
   "outputs": [],
   "source": [
    "import pandas as pd\n",
    "import boto3\n",
    "import os"
   ]
  },
  {
   "cell_type": "code",
   "execution_count": null,
   "metadata": {},
   "outputs": [],
   "source": [
    "access_key_id = \"\"\n",
    "access_secret_id = \"\"\n",
    "bucket = \"\"\n",
    "\n",
    "file_key_prefix = f\"folders\"\n",
    "files = []\n",
    "s3 = boto3.client(\"s3\", aws_access_key_id=access_key_id, aws_secret_access_key=access_secret_id)\n",
    "\n",
    "response = s3.list_objects_v2(Bucket=bucket, Prefix=file_key_prefix)\n",
    "\n",
    "for content in response.get(\"Contents\", []):\n",
    "    s3_object = content[\"Key\"]\n",
    "    if s3_object.split(\"/\")[-1] == \"\":\n",
    "        continue\n",
    "    else:\n",
    "        files.append(s3_object)\n",
    "\n",
    "\n",
    "def download_from_s3(file_key):\n",
    "    temp_folder = \"/folders\"\n",
    "    is_downloaded = []\n",
    "    download_paths = []\n",
    "\n",
    "    for f in file_key:\n",
    "        fname = f.split(\"/\")[-1]\n",
    "        temp_path = os.path.join(temp_folder, fname)\n",
    "        is_downloaded.append(os.path.exists(temp_path))\n",
    "        download_paths.append(temp_path)\n",
    "\n",
    "    is_downloaded_all = True\n",
    "    for b in is_downloaded:\n",
    "        is_downloaded_all = is_downloaded_all and b\n",
    "\n",
    "    if not is_downloaded_all:\n",
    "        client = boto3.client(\n",
    "            \"s3\",\n",
    "            aws_access_key_id=access_key_id,\n",
    "            aws_secret_access_key=access_secret_id,\n",
    "            use_ssl=True,\n",
    "            endpoint_url=None,\n",
    "        )\n",
    "\n",
    "        for i, f in enumerate(file_key):\n",
    "            if not is_downloaded[i]:\n",
    "                print(is_downloaded[i])\n",
    "                client.download_file(bucket, f, download_paths[i])\n",
    "\n",
    "    return download_paths\n",
    "\n",
    "downloaded_files = download_from_s3(files)\n",
    "downloaded_files"
   ]
  },
  {
   "cell_type": "code",
   "execution_count": null,
   "metadata": {},
   "outputs": [],
   "source": [
    "import pandas as pd\n",
    "import json\n",
    "\n",
    "# Initialize an empty list to store JSON objects\n",
    "data_list = []\n",
    "# Specify the path to the JSON file\n",
    "for file in downloaded_files:\n",
    "    # Read JSON objects from the file\n",
    "    with open(file, \"r\") as json_file:\n",
    "        for line in json_file:\n",
    "            data = json.loads(line)\n",
    "            data_list.append(data)\n",
    "\n",
    "# Create a Pandas DataFrame from the list of JSON objects\n",
    "df = pd.DataFrame(data_list)\n",
    "df[\"total_spent_time\"] = df[\"total_spent_time\"].fillna(0).astype(int)\n",
    "df"
   ]
  }
 ],
 "metadata": {
  "kernelspec": {
   "display_name": "Python 3",
   "language": "python",
   "name": "python3"
  },
  "language_info": {
   "codemirror_mode": {
    "name": "ipython",
    "version": 3
   },
   "file_extension": ".py",
   "mimetype": "text/x-python",
   "name": "python",
   "nbconvert_exporter": "python",
   "pygments_lexer": "ipython3",
   "version": "3.10.4 (v3.10.4:9d38120e33, Mar 23 2022, 17:29:05) [Clang 13.0.0 (clang-1300.0.29.30)]"
  },
  "orig_nbformat": 4,
  "vscode": {
   "interpreter": {
    "hash": "7e1998ff7f8aa20ada591c520b972326324e5ea05489af9e422744c7c09f6dad"
   }
  }
 },
 "nbformat": 4,
 "nbformat_minor": 2
}
