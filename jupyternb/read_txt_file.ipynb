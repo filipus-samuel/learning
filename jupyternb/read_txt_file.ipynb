{
 "cells": [
  {
   "cell_type": "code",
   "execution_count": 22,
   "metadata": {},
   "outputs": [],
   "source": [
    "with open('a.txt') as f:\n",
    "    lines_new = f.read().splitlines() \n",
    "    lines_new = [x.lower().split(\"==\")[0] for x in lines_new]\n",
    "with open('req_261.txt') as f:\n",
    "    lines_ori = f.read().splitlines() \n",
    "    lines_ori = [x.lower().split(\"==\")[0] for x in lines_ori]"
   ]
  },
  {
   "cell_type": "code",
   "execution_count": 23,
   "metadata": {},
   "outputs": [],
   "source": [
    "line_tmp = lines_ori"
   ]
  },
  {
   "cell_type": "code",
   "execution_count": 24,
   "metadata": {},
   "outputs": [],
   "source": [
    "for new in lines_new:\n",
    "    if new in line_tmp:\n",
    "        line_tmp.remove(new)"
   ]
  },
  {
   "cell_type": "code",
   "execution_count": 25,
   "metadata": {},
   "outputs": [
    {
     "data": {
      "text/plain": [
       "['cachetools',\n",
       " 'chardet',\n",
       " 'click',\n",
       " 'google-api-core',\n",
       " 'google-api-python-client',\n",
       " 'google-auth',\n",
       " 'google-auth-httplib2',\n",
       " 'google-auth-oauthlib',\n",
       " 'google-cloud-bigquery',\n",
       " 'google-cloud-container',\n",
       " 'google-cloud-core',\n",
       " 'google-cloud-storage',\n",
       " 'google-resumable-media',\n",
       " 'googleapis-common-protos',\n",
       " 'idna',\n",
       " 'pandas',\n",
       " 'pandas-gbq',\n",
       " 'pydata-google-auth']"
      ]
     },
     "execution_count": 25,
     "metadata": {},
     "output_type": "execute_result"
    }
   ],
   "source": [
    "line_tmp"
   ]
  },
  {
   "cell_type": "code",
   "execution_count": null,
   "metadata": {},
   "outputs": [],
   "source": []
  }
 ],
 "metadata": {
  "kernelspec": {
   "display_name": "Python 3",
   "language": "python",
   "name": "python3"
  },
  "language_info": {
   "codemirror_mode": {
    "name": "ipython",
    "version": 3
   },
   "file_extension": ".py",
   "mimetype": "text/x-python",
   "name": "python",
   "nbconvert_exporter": "python",
   "pygments_lexer": "ipython3",
   "version": "3.10.4 (v3.10.4:9d38120e33, Mar 23 2022, 17:29:05) [Clang 13.0.0 (clang-1300.0.29.30)]"
  },
  "orig_nbformat": 4,
  "vscode": {
   "interpreter": {
    "hash": "7e1998ff7f8aa20ada591c520b972326324e5ea05489af9e422744c7c09f6dad"
   }
  }
 },
 "nbformat": 4,
 "nbformat_minor": 2
}
